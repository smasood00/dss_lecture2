{
 "cells": [
  {
   "cell_type": "markdown",
   "metadata": {},
   "source": [
    "# DSS GM Lecture 2: NumPy & Matplotlib\n",
    "\n",
    "Level 1 Lecture | Monday, March 2, 2020\n",
    "\n",
    "Instructors: Safwan Masood & Ingrid Chien\n"
   ]
  },
  {
   "cell_type": "markdown",
   "metadata": {},
   "source": [
    "### Introduction\n",
    "\n",
    "Welcome to tonight's lecture! Today you will be learning about:\n",
    "\n",
    "* Advanced NumPy\n",
    "* Advanced Pandas\n",
    "* Data Cleaning Techniques\n",
    "* Intro to visualizations in matplotlib"
   ]
  },
  {
   "cell_type": "code",
   "execution_count": null,
   "metadata": {},
   "outputs": [],
   "source": [
    "# Import the libraries we need\n",
    "from datascience import *\n",
    "import numpy as np\n",
    "import pandas as pd\n",
    "import matplotlib.pyplot as plt\n",
    "%matplotlib inline"
   ]
  },
  {
   "cell_type": "markdown",
   "metadata": {},
   "source": [
    "### NumPy Practice\n",
    "\n",
    "* Building a table from scratch\n",
    "* Filtering/Data Cleaning"
   ]
  },
  {
   "cell_type": "code",
   "execution_count": null,
   "metadata": {},
   "outputs": [],
   "source": [
    "# Let's create our own table\n",
    "# We will create a table with important information about universities"
   ]
  },
  {
   "cell_type": "code",
   "execution_count": null,
   "metadata": {},
   "outputs": [],
   "source": [
    "# We begin by making arrays from scratch to add onto our table\n",
    "\n",
    "college_names = np.array(['UC Berkeley', 'UC Santa Cruz', 'UC San Diego', 'Stanford', 'Harvard', 'CalTech', 'Princeton', 'USC', \n",
    "                          'MIT', 'Yale', 'Columbia', 'Cornell', 'UCLA', 'UChicago', 'Georgia Tech', 'Amherst', 'Harvey Mudd', \n",
    "                          'Swarthmore', 'UT Austin', 'Williams', 'Dartmouth', 'UC Davis', 'UNC', 'UVA', 'Michigan', \n",
    "                          'Smith College', 'Wellesley', 'UPenn', 'Brown', 'NJIT', 'NYU', 'UC Santa Barbara', 'Wyoming',\n",
    "                          'Arizona', 'Arizona State', 'Oregon', 'Alabama', 'Florida', 'UMiami', 'Duke', 'Northwestern'])\n",
    "\n",
    "college_type = np.array(['Best', 'Weird', 'Public', 'Subpar', 'Private', 'Engineering', 'Private', 'Subpar', 'Engineering',\n",
    "                         'Private', 'Private', 'Private', 'Subpar', 'Private', 'Engineering', 'Private', 'Engineering', 'Private',\n",
    "                         'Public', 'Private', 'Private','Public', 'Public', 'Public', 'Public', \n",
    "                         'Private', 'Private', 'Private', 'Weird', 'Engineering', 'Private','Party', 'Public',\n",
    "                         'Party', 'Party', 'Public', 'Party','Public', 'Party', 'Private', 'Private'])\n",
    "\n",
    "college_rating = np.array([11, 3, 6, -1, 10, 10, 9, -1, 10, 9, 8, 7, 0, 7, 8, 8, 9, 8, 8, 9, 7, 6, 7, 8, 9, 8, 9, 9, 3, 5, 8, \n",
    "                            2, 7, 4, 4, 6, 6, 7, 6, 10, 9])\n",
    "\n",
    "college_location = np.array(['California', 'California', 'California', 'California', 'Massachusetts', 'California', 'New Jersey',\n",
    "                             'California', 'Massachusetts', 'Connecticut', 'New York', 'New York', 'California', 'Illinois', 'Georgia',\n",
    "                             'Massachusetts', 'California', 'Pennsylvania', 'Texas', 'Massachusetts', 'New Hampshire', 'California', \n",
    "                             'North Carolina', 'Virginia', 'Michigan', 'Massachusetts', 'Massachusetts', 'Pennsylvania',\n",
    "                             'Rhode Island', 'New Jersey', 'New York', 'California', 'Wyoming', 'Arizona', 'Arizona', 'Oregon',\n",
    "                             'Alabama', 'Florida', 'Florida', 'North Carolina', 'Illinois'])"
   ]
  },
  {
   "cell_type": "code",
   "execution_count": null,
   "metadata": {
    "scrolled": true
   },
   "outputs": [],
   "source": [
    "#Let's make the table\n",
    "colleges = Table().with_columns('College', college_names, 'Location', college_location,\n",
    "                                'Type', college_type, 'Rating', college_rating)\n",
    "colleges"
   ]
  },
  {
   "cell_type": "code",
   "execution_count": null,
   "metadata": {
    "scrolled": false
   },
   "outputs": [],
   "source": [
    "#Sort the table by rating from highest to lowest\n",
    "colleges.sort('Rating', descending=True)"
   ]
  },
  {
   "cell_type": "code",
   "execution_count": null,
   "metadata": {
    "scrolled": true
   },
   "outputs": [],
   "source": [
    "# All of the private schools\n",
    "colleges.where('Type', 'Private')"
   ]
  },
  {
   "cell_type": "code",
   "execution_count": null,
   "metadata": {},
   "outputs": [],
   "source": [
    "# Average rating of public schools\n",
    "np.mean(colleges.where('Type', 'Private').column('Rating'))"
   ]
  },
  {
   "cell_type": "code",
   "execution_count": null,
   "metadata": {},
   "outputs": [],
   "source": [
    "# Find all of the schools in California\n",
    "# Write your code here"
   ]
  },
  {
   "cell_type": "code",
   "execution_count": null,
   "metadata": {},
   "outputs": [],
   "source": [
    "# Find all of the 'subpar' schools\n",
    "# Write your code here"
   ]
  },
  {
   "cell_type": "code",
   "execution_count": null,
   "metadata": {},
   "outputs": [],
   "source": [
    "# Find all the 'weird' schools\n",
    "# Write your code here"
   ]
  },
  {
   "cell_type": "code",
   "execution_count": null,
   "metadata": {},
   "outputs": [],
   "source": [
    "# Find the 'best' school\n",
    "# Write your code here"
   ]
  },
  {
   "cell_type": "code",
   "execution_count": null,
   "metadata": {},
   "outputs": [],
   "source": [
    "# Find the count of each type of school\n",
    "# Write your code here"
   ]
  },
  {
   "cell_type": "code",
   "execution_count": null,
   "metadata": {},
   "outputs": [],
   "source": [
    "# Find the how many schools are in each state\n",
    "# Write your code here"
   ]
  },
  {
   "cell_type": "code",
   "execution_count": null,
   "metadata": {},
   "outputs": [],
   "source": [
    "# Find the average rating of schools in Massachusetts\n",
    "# Write your code here"
   ]
  },
  {
   "cell_type": "code",
   "execution_count": null,
   "metadata": {},
   "outputs": [],
   "source": [
    "# Find the average rating of schools in California\n",
    "# Write your code here"
   ]
  },
  {
   "cell_type": "markdown",
   "metadata": {},
   "source": [
    "### Pandas Practice\n",
    "\n",
    "* Filtering\n",
    "* Dropping rows/columns\n",
    "* Selecting certain data\n",
    "* Taking statistics\n",
    "* Visualizing"
   ]
  },
  {
   "cell_type": "markdown",
   "metadata": {},
   "source": [
    "### The Dataset\n",
    "\n",
    "This dataset contains data from just this past college football season (2019).\n",
    "\n",
    "* Some of the different types of data are: offensive touchdowns, defensive ranking, yards per play, number of games played, etc\n",
    "* Each row represents one team's figures in each statistical category. \n",
    "* There are a total of 130 rows and 146 columns. \n",
    "* We imported this dataset from Kaggle."
   ]
  },
  {
   "cell_type": "markdown",
   "metadata": {},
   "source": [
    "### Importing Data\n",
    "\n",
    "To load data on a jupyter notebook, you must first download the dataset on your laptop/computer. It will most likely be an excel file if you download it from Kaggle. Next, you go to datahub.berkeley.edu which takes you to your very own jupyter hub.\n",
    "\n",
    "Once on jupyter, you look to the top right corner where it says 'Upload'. You click it, and it will direct you to your files. From there, retrieve the dataset from wherever your saved it and upload. \n",
    "\n",
    "Once uploaded, open a new jupyter notebook by clicking the 'New' button, which is right next to the 'Upload' button. Once you click it, a dropdown menu will pop up, click 'Python 3'. \n",
    "\n",
    "Once a new jupyter notebook is up and running, you import pandas as 'pd', just like we do below. Then, you will think of a name for your table and then assign that to the following command 'pd.read_csv('filename.csv')' Here's the way we did it: \n",
    "\n",
    "cfb = pd.read_csv('CFB2019.csv')"
   ]
  },
  {
   "cell_type": "code",
   "execution_count": null,
   "metadata": {},
   "outputs": [],
   "source": [
    "cfb = pd.read_csv('CFB2019.csv')"
   ]
  },
  {
   "cell_type": "code",
   "execution_count": null,
   "metadata": {
    "scrolled": true
   },
   "outputs": [],
   "source": [
    "cfb.head(10)"
   ]
  },
  {
   "cell_type": "code",
   "execution_count": null,
   "metadata": {
    "scrolled": true
   },
   "outputs": [],
   "source": [
    "# Find the names of columns\n",
    "cfb.columns"
   ]
  },
  {
   "cell_type": "code",
   "execution_count": null,
   "metadata": {},
   "outputs": [],
   "source": [
    "# Find the highest offensive yards per game\n",
    "max(cfb['Off Yards per Game'])"
   ]
  },
  {
   "cell_type": "code",
   "execution_count": null,
   "metadata": {},
   "outputs": [],
   "source": [
    "# Find the average games played\n",
    "cfb['Games'].mean()"
   ]
  },
  {
   "cell_type": "code",
   "execution_count": null,
   "metadata": {},
   "outputs": [],
   "source": [
    "# Find the team that achieved the highest offensive yards per game\n",
    "cfb.sort_values('Off Yards per Game', ascending=False)[['Team']].iloc[0]"
   ]
  },
  {
   "cell_type": "code",
   "execution_count": null,
   "metadata": {},
   "outputs": [],
   "source": [
    "# Find the top 5 offensive teams\n",
    "cfb.sort_values('Off Rank')[['Team']].iloc[0:5]"
   ]
  },
  {
   "cell_type": "code",
   "execution_count": null,
   "metadata": {},
   "outputs": [],
   "source": [
    "# Find the top 10 defensive ranked teams\n",
    "# Write your code here"
   ]
  },
  {
   "cell_type": "code",
   "execution_count": null,
   "metadata": {},
   "outputs": [],
   "source": [
    "# Find teams that are ranked in the top 20 for both offense and defense\n",
    "# Write your code here"
   ]
  },
  {
   "cell_type": "code",
   "execution_count": null,
   "metadata": {},
   "outputs": [],
   "source": [
    "# Find the average offensive yards per game among all teams\n",
    "# Write your code here"
   ]
  },
  {
   "cell_type": "code",
   "execution_count": null,
   "metadata": {},
   "outputs": [],
   "source": [
    "# Find the average offensive yards per game for teams in the top 10\n",
    "# Write your code here"
   ]
  },
  {
   "cell_type": "code",
   "execution_count": null,
   "metadata": {},
   "outputs": [],
   "source": [
    "# Rename the 'Interceptions Thrown.y' to 'Interceptions'\n",
    "# Write your code here"
   ]
  },
  {
   "cell_type": "markdown",
   "metadata": {},
   "source": [
    "### Matplotlib Practice"
   ]
  },
  {
   "cell_type": "code",
   "execution_count": null,
   "metadata": {},
   "outputs": [],
   "source": [
    "#Let's find a correlation between offensive plays and offensive yards"
   ]
  },
  {
   "cell_type": "code",
   "execution_count": null,
   "metadata": {},
   "outputs": [],
   "source": [
    "plt.scatter(cfb['Off Plays'], cfb['Off Yards'])\n",
    "plt.title('Offensive Plays vs Offensive Yards');\n",
    "plt.xlabel('Offensive Plays')\n",
    "plt.ylabel('Offensive Yards');"
   ]
  },
  {
   "cell_type": "code",
   "execution_count": null,
   "metadata": {},
   "outputs": [],
   "source": [
    "# We want to see if there is a correlation between offensive and defensive ranks\n",
    "# Make a scatter plot that shows a correlation between offensive rank and defensive rank"
   ]
  },
  {
   "cell_type": "code",
   "execution_count": null,
   "metadata": {},
   "outputs": [],
   "source": [
    "#Your code here"
   ]
  }
 ],
 "metadata": {
  "kernelspec": {
   "display_name": "Python 3",
   "language": "python",
   "name": "python3"
  },
  "language_info": {
   "codemirror_mode": {
    "name": "ipython",
    "version": 3
   },
   "file_extension": ".py",
   "mimetype": "text/x-python",
   "name": "python",
   "nbconvert_exporter": "python",
   "pygments_lexer": "ipython3",
   "version": "3.6.9"
  }
 },
 "nbformat": 4,
 "nbformat_minor": 4
}
